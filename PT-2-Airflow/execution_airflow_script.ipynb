{
 "cells": [
  {
   "cell_type": "code",
   "execution_count": null,
   "id": "c0753974",
   "metadata": {},
   "outputs": [],
   "source": [
    "from airflow.dags.sql_executor.fetch_data_from_api import sql_execution"
   ]
  },
  {
   "cell_type": "code",
   "execution_count": null,
   "id": "4e6630d1",
   "metadata": {},
   "outputs": [],
   "source": [
    "df = sql_execution()"
   ]
  },
  {
   "cell_type": "code",
   "execution_count": null,
   "id": "5b097ff7",
   "metadata": {},
   "outputs": [],
   "source": [
    "df"
   ]
  }
 ],
 "metadata": {
  "kernelspec": {
   "display_name": ".venv",
   "language": "python",
   "name": "python3"
  },
  "language_info": {
   "codemirror_mode": {
    "name": "ipython",
    "version": 3
   },
   "file_extension": ".py",
   "mimetype": "text/x-python",
   "name": "python",
   "nbconvert_exporter": "python",
   "pygments_lexer": "ipython3",
   "version": "3.11.8"
  }
 },
 "nbformat": 4,
 "nbformat_minor": 5
}
