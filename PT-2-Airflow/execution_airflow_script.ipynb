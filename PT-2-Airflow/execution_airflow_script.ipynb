{
 "cells": [
  {
   "cell_type": "code",
   "execution_count": 1,
   "id": "e7c17ff6",
   "metadata": {},
   "outputs": [],
   "source": [
    "import psycopg2"
   ]
  },
  {
   "cell_type": "code",
   "execution_count": 2,
   "id": "c0753974",
   "metadata": {},
   "outputs": [],
   "source": [
    "from fetch_data import sql_execution"
   ]
  },
  {
   "cell_type": "code",
   "execution_count": 3,
   "id": "4e6630d1",
   "metadata": {},
   "outputs": [],
   "source": [
    "df = sql_execution()"
   ]
  },
  {
   "cell_type": "code",
   "execution_count": 4,
   "id": "5b097ff7",
   "metadata": {},
   "outputs": [
    {
     "data": {
      "text/plain": [
       "'JSON успішно завантажено у таблицю weather_data'"
      ]
     },
     "execution_count": 4,
     "metadata": {},
     "output_type": "execute_result"
    }
   ],
   "source": [
    "df"
   ]
  },
  {
   "cell_type": "code",
   "execution_count": null,
   "id": "013be2e2",
   "metadata": {},
   "outputs": [],
   "source": []
  }
 ],
 "metadata": {
  "kernelspec": {
   "display_name": ".venv",
   "language": "python",
   "name": "python3"
  },
  "language_info": {
   "codemirror_mode": {
    "name": "ipython",
    "version": 3
   },
   "file_extension": ".py",
   "mimetype": "text/x-python",
   "name": "python",
   "nbconvert_exporter": "python",
   "pygments_lexer": "ipython3",
   "version": "3.11.8"
  }
 },
 "nbformat": 4,
 "nbformat_minor": 5
}
